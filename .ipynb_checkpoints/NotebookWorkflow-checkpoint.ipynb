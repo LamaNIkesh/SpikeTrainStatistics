{
 "cells": [
  {
   "cell_type": "code",
   "execution_count": 1,
   "metadata": {
    "collapsed": true
   },
   "outputs": [],
   "source": [
    "#Simple autocorrelation tests of a single spike train.\n",
    "#this will be extended as I go along"
   ]
  },
  {
   "cell_type": "code",
   "execution_count": 4,
   "metadata": {
    "collapsed": true
   },
   "outputs": [],
   "source": [
    "import numpy as np\n",
    "import matplotlib.pyplot as plt\n",
    "%matplotlib inline\n",
    "import io\n",
    "import spikeTrainStatistics as st"
   ]
  },
  {
   "cell_type": "code",
   "execution_count": 13,
   "metadata": {},
   "outputs": [
    {
     "name": "stdout",
     "output_type": "stream",
     "text": [
      "spiketrain: [  543.   549.   552.   563.   572.   582.   586.   590.   620.   676.\n",
      "   739.   748.   825.   827.   914.  1120.  1121.  1243.  1244.  1359.\n",
      "  1361.  1363.  1487.  1621.  1623.  1760.  1761.  1762.  1926.  2111.\n",
      "  2112.  2418.  2419.  2535.  2537.  2689.  2905.  3090.  3091.  4017.\n",
      "  4087.  4089.  4182.  4185.  4294.  4436.  4437.  4600.  4772.]\n"
     ]
    }
   ],
   "source": [
    "#the spike train is from a hippocampal dataset, for simplicity only one spike train from channel 47 is used. \n",
    "# the file basically contents timestamps separated by a space\n",
    "filename = \"spiketrainch47.txt\"\n",
    "spiketrain = st.readSpikeTrains(filename) #returns array of spike times in ms for a spike train"
   ]
  },
  {
   "cell_type": "code",
   "execution_count": 14,
   "metadata": {
    "collapsed": true
   },
   "outputs": [],
   "source": [
    "#setting paramters for startwindow, endwindow, binsize etc.\n",
    "# we have flexibility to look into any time window \n",
    "startWindow = 500 # in ms\n",
    "endWindow = 3500 #in ms\n",
    "BinSize = 10 # in ms"
   ]
  },
  {
   "cell_type": "code",
   "execution_count": 15,
   "metadata": {
    "collapsed": true
   },
   "outputs": [],
   "source": [
    "#the function creates a binned spike train from the original spike train. \n",
    "BinnedSpikeTrain = st.createBinnedSpikeTrain(spiketrain, startWindow, endWindow, BinSize)"
   ]
  },
  {
   "cell_type": "code",
   "execution_count": 16,
   "metadata": {},
   "outputs": [
    {
     "name": "stdout",
     "output_type": "stream",
     "text": [
      "Binned Spike Train: [ 0.  0.  0.  0.  1.  1.  1.  1.  1.  1.  0.  0.  1.  0.  0.  0.  0.  1.\n",
      "  0.  0.  0.  0.  0.  1.  1.  0.  0.  0.  0.  0.  0.  0.  1.  0.  0.  0.\n",
      "  0.  0.  0.  0.  0.  1.  0.  0.  0.  0.  0.  0.  0.  0.  0.  0.  0.  0.\n",
      "  0.  0.  0.  0.  0.  0.  0.  0.  1.  0.  0.  0.  0.  0.  0.  0.  0.  0.\n",
      "  0.  0.  1.  0.  0.  0.  0.  0.  0.  0.  0.  0.  0.  1.  1.  0.  0.  0.\n",
      "  0.  0.  0.  0.  0.  0.  0.  0.  1.  0.  0.  0.  0.  0.  0.  0.  0.  0.\n",
      "  0.  0.  0.  0.  1.  0.  0.  0.  0.  0.  0.  0.  0.  0.  0.  0.  0.  0.\n",
      "  1.  0.  0.  0.  0.  0.  0.  0.  0.  0.  0.  0.  0.  0.  0.  0.  1.  0.\n",
      "  0.  0.  0.  0.  0.  0.  0.  0.  0.  0.  0.  0.  0.  0.  0.  0.  0.  1.\n",
      "  0.  0.  0.  0.  0.  0.  0.  0.  0.  0.  0.  0.  0.  0.  0.  0.  0.  0.\n",
      "  0.  0.  0.  0.  0.  0.  0.  0.  0.  0.  0.  1.  0.  0.  0.  0.  0.  0.\n",
      "  0.  0.  0.  0.  0.  1.  0.  0.  0.  0.  0.  0.  0.  0.  0.  0.  0.  0.\n",
      "  0.  0.  1.  0.  0.  0.  0.  0.  0.  0.  0.  0.  0.  0.  0.  0.  0.  0.\n",
      "  0.  0.  0.  0.  0.  0.  1.  0.  0.  0.  0.  0.  0.  0.  0.  0.  0.  0.\n",
      "  0.  0.  0.  0.  0.  0.  0.  1.  0.  0.  0.  0.  0.  0.  0.  0.  0.  0.\n",
      "  0.  0.  0.  0.  0.  0.  0.  0.  0.  0.  0.  0.  0.  0.  0.  0.  0.  0.\n",
      "  0.  0.  0.  0.  0.  0.  0.  0.  0.  0.  0.  0.]\n"
     ]
    }
   ],
   "source": [
    "print (\"Binned Spike Train: {}\".format(BinnedSpikeTrain))"
   ]
  },
  {
   "cell_type": "code",
   "execution_count": 21,
   "metadata": {},
   "outputs": [
    {
     "name": "stdout",
     "output_type": "stream",
     "text": [
      "Correlation Values: [ 26.]\n"
     ]
    }
   ],
   "source": [
    "#Lets do correlation analysis now. \n",
    "AutoCorrelation = np.correlate(BinnedSpikeTrain, BinnedSpikeTrain, mode = 'valid')\n",
    "print (\"Correlation Values: {}\".format(AutoCorrelation))"
   ]
  },
  {
   "cell_type": "code",
   "execution_count": 22,
   "metadata": {},
   "outputs": [
    {
     "name": "stdout",
     "output_type": "stream",
     "text": [
      "Correlation Values: [  0.   0.   0.   0.   0.   0.   0.   0.   0.   0.   0.   0.   0.   0.   0.\n",
      "   0.   0.   0.   0.   0.   0.   0.   0.   0.   0.   0.   0.   0.   0.   0.\n",
      "   0.   0.   0.   0.   0.   0.   0.   0.   0.   0.   0.   0.   0.   0.   1.\n",
      "   1.   1.   1.   1.   1.   0.   0.   1.   0.   0.   0.   0.   1.   0.   0.\n",
      "   0.   0.   0.   2.   2.   1.   1.   1.   1.   0.   0.   1.   1.   0.   0.\n",
      "   0.   1.   0.   0.   0.   0.   1.   1.   1.   0.   1.   1.   1.   1.   1.\n",
      "   1.   1.   0.   1.   0.   0.   0.   0.   1.   0.   2.   1.   2.   1.   2.\n",
      "   2.   0.   0.   1.   0.   0.   0.   1.   3.   2.   1.   1.   1.   0.   1.\n",
      "   2.   1.   1.   0.   0.   2.   1.   0.   1.   0.   0.   1.   1.   1.   0.\n",
      "   0.   0.   1.   1.   0.   1.   0.   1.   2.   2.   2.   1.   1.   0.   1.\n",
      "   1.   0.   1.   0.   0.   2.   0.   1.   1.   0.   0.   2.   2.   1.   1.\n",
      "   1.   3.   1.   0.   1.   3.   1.   0.   0.   1.   0.   0.   1.   1.   3.\n",
      "   2.   3.   4.   0.   0.   2.   0.   0.   0.   1.   1.   1.   1.   3.   3.\n",
      "   1.   2.   1.   1.   1.   1.   2.   0.   0.   1.   2.   2.   2.   2.   1.\n",
      "   2.   1.   1.   1.   1.   0.   0.   1.   3.   4.   4.   2.   3.   3.   2.\n",
      "   2.   1.   0.   1.   1.   2.   4.   1.   2.   2.   1.   2.   3.   2.   0.\n",
      "   0.   1.   5.   3.   1.   2.   2.   1.   1.   3.   3.   0.   0.   0.   2.\n",
      "   2.   0.   2.   2.   1.   1.   2.   2.   2.   2.   1.   2.   1.   0.   3.\n",
      "   1.   2.   3.   2.   1.   4.   2.   1.   1.   2.   4.   3.   3.   3.   4.\n",
      "   3.   2.   6.   3.   1.   3.   3.   2.   2.   3.   3.   4.   4.   7.  26.\n",
      "   7.   4.   4.   3.   3.   2.   2.   3.   3.   1.   3.   6.   2.   3.   4.\n",
      "   3.   3.   3.   4.   2.   1.   1.   2.   4.   1.   2.   3.   2.   1.   3.\n",
      "   0.   1.   2.   1.   2.   2.   2.   2.   1.   1.   2.   2.   0.   2.   2.\n",
      "   0.   0.   0.   3.   3.   1.   1.   2.   2.   1.   3.   5.   1.   0.   0.\n",
      "   2.   3.   2.   1.   2.   2.   1.   4.   2.   1.   1.   0.   1.   2.   2.\n",
      "   3.   3.   2.   4.   4.   3.   1.   0.   0.   1.   1.   1.   1.   2.   1.\n",
      "   2.   2.   2.   2.   1.   0.   0.   2.   1.   1.   1.   1.   2.   1.   3.\n",
      "   3.   1.   1.   1.   1.   0.   0.   0.   2.   0.   0.   4.   3.   2.   3.\n",
      "   1.   1.   0.   0.   1.   0.   0.   1.   3.   1.   0.   1.   3.   1.   1.\n",
      "   1.   2.   2.   0.   0.   1.   1.   0.   2.   0.   0.   1.   0.   1.   1.\n",
      "   0.   1.   1.   2.   2.   2.   1.   0.   1.   0.   1.   1.   0.   0.   0.\n",
      "   1.   1.   1.   0.   0.   1.   0.   1.   2.   0.   0.   1.   1.   2.   1.\n",
      "   0.   1.   1.   1.   2.   3.   1.   0.   0.   0.   1.   0.   0.   2.   2.\n",
      "   1.   2.   1.   2.   0.   1.   0.   0.   0.   0.   1.   0.   1.   1.   1.\n",
      "   1.   1.   1.   1.   0.   1.   1.   1.   0.   0.   0.   0.   1.   0.   0.\n",
      "   0.   1.   1.   0.   0.   1.   1.   1.   1.   2.   2.   0.   0.   0.   0.\n",
      "   0.   1.   0.   0.   0.   0.   1.   0.   0.   1.   1.   1.   1.   1.   1.\n",
      "   0.   0.   0.   0.   0.   0.   0.   0.   0.   0.   0.   0.   0.   0.   0.\n",
      "   0.   0.   0.   0.   0.   0.   0.   0.   0.   0.   0.   0.   0.   0.   0.\n",
      "   0.   0.   0.   0.   0.   0.   0.   0.   0.   0.   0.   0.   0.   0.]\n"
     ]
    }
   ],
   "source": [
    "AutoCorrelation = np.correlate(BinnedSpikeTrain, BinnedSpikeTrain, mode = 'full')\n",
    "print (\"Correlation Values: {}\".format(AutoCorrelation))"
   ]
  },
  {
   "cell_type": "code",
   "execution_count": 23,
   "metadata": {},
   "outputs": [
    {
     "data": {
      "image/png": "[encoded data removed]",
      "text/plain": [
       "<matplotlib.figure.Figure at 0x7f4db01a5518>"
      ]
     },
     "metadata": {},
     "output_type": "display_data"
    }
   ],
   "source": [
    "plt.plot(AutoCorrelation)\n",
    "plt.show()"
   ]
  },
  {
   "cell_type": "code",
   "execution_count": null,
   "metadata": {
    "collapsed": true
   },
   "outputs": [],
   "source": []
  }
 ],
 "metadata": {
  "kernelspec": {
   "display_name": "Python 3",
   "language": "python",
   "name": "python3"
  },
  "language_info": {
   "codemirror_mode": {
    "name": "ipython",
    "version": 3
   },
   "file_extension": ".py",
   "mimetype": "text/x-python",
   "name": "python",
   "nbconvert_exporter": "python",
   "pygments_lexer": "ipython3",
   "version": "3.5.2"
  }
 },
 "nbformat": 4,
 "nbformat_minor": 2
}
